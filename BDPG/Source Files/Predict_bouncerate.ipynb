{
 "cells": [
  {
   "cell_type": "code",
   "execution_count": 25,
   "metadata": {},
   "outputs": [
    {
     "name": "stdout",
     "output_type": "stream",
     "text": [
      "root\n",
      " |-- Age: string (nullable = true)\n",
      " |-- Campaign: string (nullable = true)\n",
      " |-- Users: integer (nullable = true)\n",
      " |-- New Users: integer (nullable = true)\n",
      " |-- Sessions: integer (nullable = true)\n",
      " |-- Bounce Rate: string (nullable = true)\n",
      " |-- Pages / Session: double (nullable = true)\n",
      " |-- Avg. Session Duration: double (nullable = true)\n",
      " |-- Goal Conversion Rate: string (nullable = true)\n",
      " |-- Goal Completions: integer (nullable = true)\n",
      " |-- Goal Value: double (nullable = true)\n",
      "\n"
     ]
    }
   ],
   "source": [
    "gameDF = spark.read.csv(\"/home/training/data/Age-campaign.csv\", inferSchema=True, header=True)\n",
    "gameDF.printSchema()\n",
    "interDF = gameDF.select(\"Age\",\"Campaign\",\"Users\",\"Pages / Session\",\"`Avg. Session Duration`\",\"Bounce Rate\")\n",
    "gamesDF = interDF.withColumn(\"Users\", interDF.Users.cast(\"double\"))\n"
   ]
  },
  {
   "cell_type": "code",
   "execution_count": 26,
   "metadata": {},
   "outputs": [
    {
     "name": "stdout",
     "output_type": "stream",
     "text": [
      "+-----+--------------------+-----+-------------+---------------+----------+\n",
      "|  Age|            Campaign|Users|Pages_Session|AvgSessDuration|BounceRate|\n",
      "+-----+--------------------+-----+-------------+---------------+----------+\n",
      "|18-24|           (not set)|161.0|         5.83|         253.91|      0.00|\n",
      "|25-34|           (not set)|118.0|         8.27|         442.39|      2.22|\n",
      "|35-44|           (not set)| 99.0|          6.3|          284.1|      2.40|\n",
      "|45-54|           (not set)| 81.0|         6.02|         397.48|      0.00|\n",
      "|55-64|           (not set)| 52.0|         5.82|         242.43|      0.00|\n",
      "|  65+|           (not set)| 36.0|          5.8|         287.75|      0.00|\n",
      "|18-24|rainbow-girls-nye...| 33.0|         6.14|          118.9|      0.00|\n",
      "|25-34|rainbow-girls-nye...| 27.0|         5.94|          258.9|      0.00|\n",
      "|18-24|princess-in-colou...| 25.0|         6.06|         275.23|      3.23|\n",
      "|18-24|princess-easter-s...| 24.0|          6.0|          396.5|      0.00|\n",
      "|45-54|princess-easter-s...| 23.0|         6.07|         351.77|      0.00|\n",
      "|18-24|sorority-fall-fas...| 22.0|         5.19|         242.81|      3.70|\n",
      "|18-24|winter-aesthetic-...| 22.0|         6.31|         239.76|      0.00|\n",
      "|25-34|princess-easter-s...| 20.0|         6.17|         309.48|      4.35|\n",
      "|25-34|winter-aesthetic-...| 20.0|         4.29|         144.21|      8.33|\n",
      "|35-44|rainbow-girls-nye...| 20.0|         6.83|         375.35|      0.00|\n",
      "|25-34|baby-boss-photo-s...| 19.0|         7.36|         216.96|      0.00|\n",
      "|35-44|baby-boss-photo-s...| 18.0|         3.85|          16.15|      0.00|\n",
      "|18-24|baby-boss-photo-s...| 17.0|         6.05|         212.47|      0.00|\n",
      "|35-44|sorority-fall-fas...| 16.0|          4.0|         113.65|     10.00|\n",
      "+-----+--------------------+-----+-------------+---------------+----------+\n",
      "only showing top 20 rows\n",
      "\n",
      "root\n",
      " |-- Age: string (nullable = true)\n",
      " |-- Campaign: string (nullable = true)\n",
      " |-- Users: double (nullable = true)\n",
      " |-- Pages_Session: double (nullable = true)\n",
      " |-- AvgSessDuration: double (nullable = true)\n",
      " |-- BounceRate: double (nullable = true)\n",
      "\n"
     ]
    }
   ],
   "source": [
    "from pyspark.sql import functions as fn\n",
    "df1 = gamesDF.withColumnRenamed('Pages / Session', 'Pages_Session')\n",
    "df2 = df1.withColumnRenamed('Bounce Rate', 'BounceRate')\n",
    "df3 =  df2.withColumn('BounceRate', fn.regexp_replace('BounceRate', '%', ''))\n",
    "clean_df = df3.toDF(*(c.replace('.', '_') for c in df3.columns))\n",
    "final_df = clean_df.withColumnRenamed(\"Avg_ Session Duration\", \"AvgSessDuration\")\n",
    "final_df.show()\n",
    "\n",
    "df = final_df.withColumn(\"BounceRate\", final_df.BounceRate.cast(\"double\"))\n",
    "df.printSchema()"
   ]
  },
  {
   "cell_type": "code",
   "execution_count": 27,
   "metadata": {},
   "outputs": [
    {
     "name": "stdout",
     "output_type": "stream",
     "text": [
      "-RECORD 0---------------------------------------\n",
      " Age_missing             | 0.025974025974025983 \n",
      " Campaign_missing        | 0.025974025974025983 \n",
      " Users_missing           | 0.0                  \n",
      " Pages_Session_missing   | 0.0                  \n",
      " AvgSessDuration_missing | 0.0                  \n",
      " BounceRate_missing      | 0.0                  \n",
      "\n"
     ]
    }
   ],
   "source": [
    "import pyspark.sql.functions as fn\n",
    "\n",
    "df.agg( * [ (1 - (fn.count(c) / fn.count('*')) ).alias(c + '_missing') for c in df.columns] ) \\\n",
    "    .show(vertical=True)"
   ]
  },
  {
   "cell_type": "code",
   "execution_count": 28,
   "metadata": {},
   "outputs": [
    {
     "name": "stdout",
     "output_type": "stream",
     "text": [
      "+---+--------+-----+-------------+---------------+----------+\n",
      "|Age|Campaign|Users|Pages_Session|AvgSessDuration|BounceRate|\n",
      "+---+--------+-----+-------------+---------------+----------+\n",
      "|  0|       0|    0|            0|              0|         0|\n",
      "+---+--------+-----+-------------+---------------+----------+\n",
      "\n"
     ]
    }
   ],
   "source": [
    "from pyspark.sql import functions as F\n",
    "\n",
    "df_n1 = df.fillna(\"baby-boss-photo-shoot\", \"Campaign\")\n",
    "df_n2 = df_n1.fillna(\"18-24\", \"Age\")\n",
    "df_agg = df_n2.agg(*[F.count(F.when(F.isnull(c), c)).alias(c) for c in df.columns])\n",
    "df_agg.show()"
   ]
  },
  {
   "cell_type": "code",
   "execution_count": 29,
   "metadata": {},
   "outputs": [
    {
     "name": "stdout",
     "output_type": "stream",
     "text": [
      "+-----+--------------------+-----+-------------+---------------+----------+\n",
      "|  Age|            Campaign|Users|Pages_Session|AvgSessDuration|BounceRate|\n",
      "+-----+--------------------+-----+-------------+---------------+----------+\n",
      "|18-24|baby-boss-photo-s...|161.0|         5.83|         253.91|       0.0|\n",
      "|25-34|baby-boss-photo-s...|118.0|         8.27|         442.39|      2.22|\n",
      "|35-44|baby-boss-photo-s...| 99.0|          6.3|          284.1|       2.4|\n",
      "|45-54|baby-boss-photo-s...| 81.0|         6.02|         397.48|       0.0|\n",
      "|55-64|baby-boss-photo-s...| 52.0|         5.82|         242.43|       0.0|\n",
      "|  65+|baby-boss-photo-s...| 36.0|          5.8|         287.75|       0.0|\n",
      "|18-24|rainbow-girls-nye...| 33.0|         6.14|          118.9|       0.0|\n",
      "|25-34|rainbow-girls-nye...| 27.0|         5.94|          258.9|       0.0|\n",
      "|18-24|princess-in-colou...| 25.0|         6.06|         275.23|      3.23|\n",
      "|18-24|princess-easter-s...| 24.0|          6.0|          396.5|       0.0|\n",
      "|45-54|princess-easter-s...| 23.0|         6.07|         351.77|       0.0|\n",
      "|18-24|sorority-fall-fas...| 22.0|         5.19|         242.81|       3.7|\n",
      "|18-24|winter-aesthetic-...| 22.0|         6.31|         239.76|       0.0|\n",
      "|25-34|princess-easter-s...| 20.0|         6.17|         309.48|      4.35|\n",
      "|25-34|winter-aesthetic-...| 20.0|         4.29|         144.21|      8.33|\n",
      "|35-44|rainbow-girls-nye...| 20.0|         6.83|         375.35|       0.0|\n",
      "|25-34|baby-boss-photo-s...| 19.0|         7.36|         216.96|       0.0|\n",
      "|35-44|baby-boss-photo-s...| 18.0|         3.85|          16.15|       0.0|\n",
      "|18-24|baby-boss-photo-s...| 17.0|         6.05|         212.47|       0.0|\n",
      "|35-44|sorority-fall-fas...| 16.0|          4.0|         113.65|      10.0|\n",
      "+-----+--------------------+-----+-------------+---------------+----------+\n",
      "only showing top 20 rows\n",
      "\n"
     ]
    }
   ],
   "source": [
    "from pyspark.sql.functions import *\n",
    "testDF1 = df_n2.na.replace([\"(not set)\"], [\"notknown\"], 'Campaign')\n",
    "tf1 = testDF1.na.replace([\"(not set)\"], [\"notknown\"], 'Age')\n",
    "tf = tf1.na.replace([\"notknown\"], [\"baby-boss-photo-shoot\"], 'Campaign')\n",
    "tf.show()"
   ]
  },
  {
   "cell_type": "code",
   "execution_count": 30,
   "metadata": {},
   "outputs": [
    {
     "name": "stdout",
     "output_type": "stream",
     "text": [
      "+-------+------------------+------------------+------------------+------------------+\n",
      "|summary|             Users|        BounceRate|     Pages_Session|   AvgSessDuration|\n",
      "+-------+------------------+------------------+------------------+------------------+\n",
      "|  count|               539|               539|               539|               539|\n",
      "|   mean| 48.32282003710575|1.9077736549165116| 5.832708719851575|250.46703153988898|\n",
      "| stddev|121.37747068158338| 3.376550264463662|1.7838340799142733| 173.6730686418285|\n",
      "|    min|              10.0|               0.0|              2.54|              12.0|\n",
      "|    max|            1149.0|             37.93|             19.17|           1393.13|\n",
      "+-------+------------------+------------------+------------------+------------------+\n",
      "\n"
     ]
    }
   ],
   "source": [
    "numerical = ['Users','BounceRate','Pages_Session','AvgSessDuration']\n",
    "desc= tf.describe(numerical)\n",
    "desc.show()"
   ]
  },
  {
   "cell_type": "code",
   "execution_count": 31,
   "metadata": {},
   "outputs": [
    {
     "name": "stdout",
     "output_type": "stream",
     "text": [
      "+--------------------+------------------+-------------------------+\n",
      "|skewness(BounceRate)|   skewness(Users)|skewness(AvgSessDuration)|\n",
      "+--------------------+------------------+-------------------------+\n",
      "|    3.59124565265571|6.2029515117970435|       1.8005616542779674|\n",
      "+--------------------+------------------+-------------------------+\n",
      "\n"
     ]
    }
   ],
   "source": [
    "tf.agg( {'BounceRate': 'skewness', 'Users': 'skewness', 'AvgSessDuration': 'skewness'} ).show()"
   ]
  },
  {
   "cell_type": "code",
   "execution_count": 32,
   "metadata": {},
   "outputs": [
    {
     "name": "stdout",
     "output_type": "stream",
     "text": [
      "╒═════════════════╤═════════╤══════════════╤═════════════════╤═══════════════════╕\n",
      "│                 │  Users  │  BounceRate  │  Pages_Session  │  AvgSessDuration  │\n",
      "╞═════════════════╪═════════╪══════════════╪═════════════════╪═══════════════════╡\n",
      "│ Users           │    1    │  0.00231363  │    0.0667305    │     0.0671462     │\n",
      "├─────────────────┼─────────┼──────────────┼─────────────────┼───────────────────┤\n",
      "│ BounceRate      │         │      1       │    -0.140196    │    -0.0750716     │\n",
      "├─────────────────┼─────────┼──────────────┼─────────────────┼───────────────────┤\n",
      "│ Pages_Session   │         │              │        1        │     0.774263      │\n",
      "├─────────────────┼─────────┼──────────────┼─────────────────┼───────────────────┤\n",
      "│ AvgSessDuration │         │              │                 │         1         │\n",
      "╘═════════════════╧═════════╧══════════════╧═════════════════╧═══════════════════╛\n"
     ]
    }
   ],
   "source": [
    "n_numerical = len(numerical)\n",
    "corr = []\n",
    "\n",
    "for i in range(0, n_numerical):\n",
    "    temp = [None] * i\n",
    "    for j in range(i, n_numerical):\n",
    "        temp.append(tf.corr(numerical[i], numerical[j]))\n",
    "    corr.append(temp)\n",
    "    from tabulate import tabulate\n",
    "print(tabulate(corr, headers=numerical, showindex=numerical, tablefmt=\"fancy_grid\", numalign=\"center\"))"
   ]
  },
  {
   "cell_type": "code",
   "execution_count": 33,
   "metadata": {},
   "outputs": [
    {
     "name": "stdout",
     "output_type": "stream",
     "text": [
      "+-----+--------------------+-----+-------------+---------------+----------+\n",
      "|  Age|            Campaign|Users|Pages_Session|AvgSessDuration|BounceRate|\n",
      "+-----+--------------------+-----+-------------+---------------+----------+\n",
      "|18-24|baby-boss-photo-s...|161.0|         5.83|         253.91|       0.0|\n",
      "|25-34|baby-boss-photo-s...|118.0|         8.27|         442.39|      2.22|\n",
      "|35-44|baby-boss-photo-s...| 99.0|          6.3|          284.1|       2.4|\n",
      "|45-54|baby-boss-photo-s...| 81.0|         6.02|         397.48|       0.0|\n",
      "|55-64|baby-boss-photo-s...| 52.0|         5.82|         242.43|       0.0|\n",
      "|  65+|baby-boss-photo-s...| 36.0|          5.8|         287.75|       0.0|\n",
      "|18-24|rainbow-girls-nye...| 33.0|         6.14|          118.9|       0.0|\n",
      "|25-34|rainbow-girls-nye...| 27.0|         5.94|          258.9|       0.0|\n",
      "|18-24|princess-in-colou...| 25.0|         6.06|         275.23|      3.23|\n",
      "|18-24|princess-easter-s...| 24.0|          6.0|          396.5|       0.0|\n",
      "|45-54|princess-easter-s...| 23.0|         6.07|         351.77|       0.0|\n",
      "|18-24|sorority-fall-fas...| 22.0|         5.19|         242.81|       3.7|\n",
      "|18-24|winter-aesthetic-...| 22.0|         6.31|         239.76|       0.0|\n",
      "|25-34|princess-easter-s...| 20.0|         6.17|         309.48|      4.35|\n",
      "|25-34|winter-aesthetic-...| 20.0|         4.29|         144.21|      8.33|\n",
      "|35-44|rainbow-girls-nye...| 20.0|         6.83|         375.35|       0.0|\n",
      "|25-34|baby-boss-photo-s...| 19.0|         7.36|         216.96|       0.0|\n",
      "|35-44|baby-boss-photo-s...| 18.0|         3.85|          16.15|       0.0|\n",
      "|18-24|baby-boss-photo-s...| 17.0|         6.05|         212.47|       0.0|\n",
      "|35-44|sorority-fall-fas...| 16.0|          4.0|         113.65|      10.0|\n",
      "+-----+--------------------+-----+-------------+---------------+----------+\n",
      "only showing top 20 rows\n",
      "\n"
     ]
    }
   ],
   "source": [
    "quantiles = tf.approxQuantile(\"AvgSessDuration\", [0.25, 0.75], 0.05)\n",
    "IQR = quantiles[1] - quantiles[0]\n",
    "bounds = [quantiles[0] - 1.5 * IQR, quantiles[1] + 1.5 * IQR]\n",
    "tf1 = tf.where( (tf.BounceRate > bounds[0]) | (tf.BounceRate < bounds[1]) )\n",
    "tf1.show()"
   ]
  },
  {
   "cell_type": "code",
   "execution_count": 34,
   "metadata": {},
   "outputs": [],
   "source": [
    "\n",
    "import pyspark.ml.feature as ft\n",
    "\n",
    "town_indexer = ft.StringIndexer(inputCol=\"Campaign\", outputCol=\"campaign-num\",handleInvalid = \"keep\")\n",
    "age_indexer = ft.StringIndexer(inputCol=\"Age\", outputCol=\"age-num\")\n",
    "town_encoder = ft.OneHotEncoder(inputCol=\"campaign-num\", outputCol='campaign-vec')\n",
    "age_encoder = ft.OneHotEncoder(inputCol=\"age-num\", outputCol='age-vec')\n",
    "featuresCreator = ft.VectorAssembler(inputCols=[\"campaign-vec\",\"age-vec\"], outputCol='features-vec')\n",
    "scaler = ft.StandardScaler(inputCol=\"features-vec\", outputCol=\"features\")"
   ]
  },
  {
   "cell_type": "code",
   "execution_count": 36,
   "metadata": {},
   "outputs": [],
   "source": [
    "\n",
    "import pyspark.ml.regression as reg\n",
    "lr = reg.GeneralizedLinearRegression(labelCol= \"BounceRate\")"
   ]
  },
  {
   "cell_type": "code",
   "execution_count": 37,
   "metadata": {},
   "outputs": [],
   "source": [
    "from pyspark.ml import Pipeline\n",
    "pipeline = Pipeline( stages = [age_indexer,age_encoder,town_indexer,town_encoder,featuresCreator,scaler, lr] )"
   ]
  },
  {
   "cell_type": "code",
   "execution_count": 38,
   "metadata": {},
   "outputs": [
    {
     "data": {
      "text/plain": [
       "DataFrame[Age: string, Campaign: string, Users: double, Pages_Session: double, AvgSessDuration: double, BounceRate: double]"
      ]
     },
     "execution_count": 38,
     "metadata": {},
     "output_type": "execute_result"
    }
   ],
   "source": [
    "auto_train, auto_test = tf1.randomSplit([0.75, 0.25], seed=1111)\n",
    "auto_train.persist()"
   ]
  },
  {
   "cell_type": "code",
   "execution_count": 39,
   "metadata": {},
   "outputs": [],
   "source": [
    "model = pipeline.fit(auto_train)\n",
    "prediction = model.transform(auto_test)"
   ]
  },
  {
   "cell_type": "code",
   "execution_count": 40,
   "metadata": {},
   "outputs": [],
   "source": [
    "import pyspark.ml.evaluation as ev\n",
    "predictions = model.transform(auto_test)\n"
   ]
  },
  {
   "cell_type": "code",
   "execution_count": 41,
   "metadata": {},
   "outputs": [
    {
     "name": "stdout",
     "output_type": "stream",
     "text": [
      "3.1540716435087535\n",
      "-0.1287305533821872\n"
     ]
    }
   ],
   "source": [
    "evaluator = ev.RegressionEvaluator(predictionCol=\"prediction\", labelCol=\"BounceRate\")\n",
    "print(evaluator.evaluate(predictions, {evaluator.metricName: 'rmse'}))\n",
    "print(evaluator.evaluate(predictions, {evaluator.metricName: 'r2'}))"
   ]
  },
  {
   "cell_type": "code",
   "execution_count": 42,
   "metadata": {},
   "outputs": [
    {
     "data": {
      "text/plain": [
       "2.060612142182409"
      ]
     },
     "execution_count": 42,
     "metadata": {},
     "output_type": "execute_result"
    }
   ],
   "source": [
    "schema = [\"Campaign\", \"Age\"]\n",
    "test_record = [ ( \"adorable-girls-valentino-fashion\", \"45-54\" ) ]\n",
    "df = spark.createDataFrame(test_record, schema=schema)\n",
    "model.transform(df).first().prediction"
   ]
  }
 ],
 "metadata": {
  "kernelspec": {
   "display_name": "Python 3",
   "language": "python",
   "name": "python3"
  },
  "language_info": {
   "codemirror_mode": {
    "name": "ipython",
    "version": 3
   },
   "file_extension": ".py",
   "mimetype": "text/x-python",
   "name": "python",
   "nbconvert_exporter": "python",
   "pygments_lexer": "ipython3",
   "version": "3.8.5"
  }
 },
 "nbformat": 4,
 "nbformat_minor": 4
}
