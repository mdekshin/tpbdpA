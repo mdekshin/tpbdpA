{
 "cells": [
  {
   "cell_type": "code",
   "execution_count": 18,
   "metadata": {},
   "outputs": [
    {
     "name": "stdout",
     "output_type": "stream",
     "text": [
      "root\n",
      " |-- City: string (nullable = true)\n",
      " |-- Campaign: string (nullable = true)\n",
      " |-- Users: integer (nullable = true)\n",
      " |-- New Users: integer (nullable = true)\n",
      " |-- Sessions: integer (nullable = true)\n",
      " |-- Bounce Rate: string (nullable = true)\n",
      " |-- Pages / Session: double (nullable = true)\n",
      " |-- Avg. Session Duration: double (nullable = true)\n",
      " |-- Goal Conversion Rate: string (nullable = true)\n",
      " |-- Goal Completions: integer (nullable = true)\n",
      " |-- Goal Value: double (nullable = true)\n",
      "\n",
      "root\n",
      " |-- City: string (nullable = true)\n",
      " |-- Campaign: string (nullable = true)\n",
      " |-- Users: double (nullable = true)\n",
      " |-- Sessions: integer (nullable = true)\n",
      " |-- Bounce Rate: string (nullable = true)\n",
      " |-- Pages / Session: double (nullable = true)\n",
      " |-- Avg. Session Duration: double (nullable = true)\n",
      "\n"
     ]
    }
   ],
   "source": [
    "gameDF = spark.read.csv(\"/home/training/data/city-campaign-2.csv\", inferSchema=True, header=True)\n",
    "gameDF.printSchema()\n",
    "interDF = gameDF.select(\"City\",\"Campaign\",\"Users\",\"Sessions\",\"Bounce Rate\",\"Pages / Session\",\"`Avg. Session Duration`\")\n",
    "gamesDF = interDF.withColumn(\"Users\", interDF.Users.cast(\"double\"))\n",
    "gamesDF.printSchema()\n"
   ]
  },
  {
   "cell_type": "code",
   "execution_count": 19,
   "metadata": {},
   "outputs": [
    {
     "name": "stdout",
     "output_type": "stream",
     "text": [
      "root\n",
      " |-- City: string (nullable = true)\n",
      " |-- Campaign: string (nullable = true)\n",
      " |-- Users: double (nullable = true)\n",
      " |-- Sessions: integer (nullable = true)\n",
      " |-- BounceRate: double (nullable = true)\n",
      " |-- Pages_Session: double (nullable = true)\n",
      " |-- AvgSessDuration: double (nullable = true)\n",
      "\n",
      "+---------+--------------------+-----+--------+----------+-------------+---------------+\n",
      "|     City|            Campaign|Users|Sessions|BounceRate|Pages_Session|AvgSessDuration|\n",
      "+---------+--------------------+-----+--------+----------+-------------+---------------+\n",
      "|(not set)|           (not set)|145.0|     199|      3.52|          6.1|         317.81|\n",
      "| Istanbul|           (not set)| 37.0|      44|      2.27|         6.86|          391.3|\n",
      "|   London|           (not set)| 33.0|      33|       0.0|         3.55|         121.39|\n",
      "| Istanbul|rainbow-girls-nye...| 30.0|      42|      2.38|         4.33|          90.07|\n",
      "|(not set)|princess-in-colou...| 29.0|      42|      2.38|         5.67|         135.29|\n",
      "| Istanbul|sorority-fall-fas...| 27.0|      28|      7.14|         5.43|         148.43|\n",
      "|(not set)|baby-boss-photo-s...| 21.0|      27|       0.0|         7.41|         390.67|\n",
      "|(not set)|princess-easter-s...| 18.0|      25|       0.0|          5.0|          304.2|\n",
      "| Helsinki|           (not set)| 17.0|      18|     11.11|         2.78|          26.67|\n",
      "|  Chennai|           (not set)| 17.0|      48|       0.0|         7.13|         364.96|\n",
      "| Istanbul|superhero-violet-...| 17.0|      17|     11.76|         3.41|         133.41|\n",
      "|(not set)|princess-winter-s...| 16.0|      23|       8.7|         5.17|         426.96|\n",
      "|    Cairo|           (not set)| 16.0|      18|      5.56|         7.61|          88.28|\n",
      "|    Adana|           (not set)| 13.0|      16|       0.0|         3.38|         155.75|\n",
      "|(not set)|bff-princess-back...| 12.0|      25|       4.0|         4.92|         272.76|\n",
      "|   Ankara|rainbow-girls-nye...| 12.0|      13|       0.0|         7.77|         280.46|\n",
      "| Istanbul|adorable-girls-va...| 12.0|      14|      7.14|         5.64|          307.5|\n",
      "| Istanbul|princess-makeover...| 12.0|      14|      7.14|         3.93|         199.86|\n",
      "|    Boise|           (not set)| 12.0|      15|       0.0|         4.93|         123.93|\n",
      "|(not set)|winter-aesthetic-...| 11.0|      23|       0.0|         7.22|         556.39|\n",
      "+---------+--------------------+-----+--------+----------+-------------+---------------+\n",
      "only showing top 20 rows\n",
      "\n"
     ]
    }
   ],
   "source": [
    "from pyspark.sql import functions as fn\n",
    "df1 = gamesDF.withColumnRenamed('Pages / Session', 'Pages_Session')\n",
    "df2 = df1.withColumnRenamed('Bounce Rate', 'BounceRate')\n",
    "df3 =  df2.withColumn('BounceRate', fn.regexp_replace('BounceRate', '%', ''))\n",
    "clean_df = df3.toDF(*(c.replace('.', '_') for c in df3.columns))\n",
    "final_df = clean_df.withColumnRenamed(\"Avg_ Session Duration\", \"AvgSessDuration\")\n",
    "\n",
    "df = final_df.withColumn(\"BounceRate\", final_df.BounceRate.cast(\"double\"))\n",
    "df.printSchema()\n",
    "df.show()"
   ]
  },
  {
   "cell_type": "code",
   "execution_count": 20,
   "metadata": {},
   "outputs": [
    {
     "data": {
      "text/plain": [
       "3046"
      ]
     },
     "execution_count": 20,
     "metadata": {},
     "output_type": "execute_result"
    }
   ],
   "source": [
    "df.select(\"City\").distinct().count()"
   ]
  },
  {
   "cell_type": "code",
   "execution_count": 21,
   "metadata": {},
   "outputs": [
    {
     "name": "stdout",
     "output_type": "stream",
     "text": [
      "-RECORD 0----------------------\n",
      " City_missing            | 0.0 \n",
      " Campaign_missing        | 0.0 \n",
      " Users_missing           | 0.0 \n",
      " Sessions_missing        | 0.0 \n",
      " BounceRate_missing      | 0.0 \n",
      " Pages_Session_missing   | 0.0 \n",
      " AvgSessDuration_missing | 0.0 \n",
      "\n"
     ]
    },
    {
     "data": {
      "text/plain": [
       "568"
      ]
     },
     "execution_count": 21,
     "metadata": {},
     "output_type": "execute_result"
    }
   ],
   "source": [
    "import pyspark.sql.functions as fn\n",
    "\n",
    "df.agg( * [ (1 - (fn.count(c) / fn.count('*')) ).alias(c + '_missing') for c in df.columns] ) \\\n",
    "    .show(vertical=True)\n",
    "\n",
    "df.select(\"City\").filter(df.City == \"(not set)\").count()"
   ]
  },
  {
   "cell_type": "code",
   "execution_count": 23,
   "metadata": {},
   "outputs": [],
   "source": [
    "from pyspark.sql.functions import *\n",
    "testDF = df.na.drop()\n",
    "\n",
    "\n",
    "DF1 = df.na.replace([\"(not set)\"], [\"notknown\"], 'City')\n",
    "DF2_c = DF1.na.replace([\"(not set)\"], [\"notknown\"], 'Campaign')\n",
    "#Replacing with the most played game\n",
    "DF2 = DF2_c.na.replace([\"notknown\"], [\"baby-boss-photo-shoot\"], 'Campaign')\n",
    "\n"
   ]
  },
  {
   "cell_type": "code",
   "execution_count": 8,
   "metadata": {},
   "outputs": [
    {
     "name": "stdout",
     "output_type": "stream",
     "text": [
      "+-------+------------------+------------------+-----------------+------------------+-----------------+\n",
      "|summary|             Users|        BounceRate|    Pages_Session|          Sessions|  AvgSessDuration|\n",
      "+-------+------------------+------------------+-----------------+------------------+-----------------+\n",
      "|  count|              9823|              9823|             9823|              9823|             9823|\n",
      "|   mean|1.6469510332892192|2.2417082357731855|5.771635956428785|2.2083884760256542|237.5987305303876|\n",
      "| stddev| 4.459273227068245|13.296253736391343|5.879564921858606| 6.018826338560221| 519.968694552614|\n",
      "|    min|               1.0|               0.0|              1.0|                 1|              0.0|\n",
      "|    max|             244.0|             100.0|             95.0|               319|           8788.0|\n",
      "+-------+------------------+------------------+-----------------+------------------+-----------------+\n",
      "\n"
     ]
    },
    {
     "data": {
      "text/plain": [
       "9823"
      ]
     },
     "execution_count": 8,
     "metadata": {},
     "output_type": "execute_result"
    }
   ],
   "source": [
    "numerical = ['Users','BounceRate','Pages_Session','Sessions','AvgSessDuration']\n",
    "desc= DF2.describe(numerical)\n",
    "desc.show()\n",
    "DF2.count()"
   ]
  },
  {
   "cell_type": "code",
   "execution_count": 9,
   "metadata": {
    "scrolled": true
   },
   "outputs": [
    {
     "data": {
      "text/plain": [
       "9823"
      ]
     },
     "execution_count": 9,
     "metadata": {},
     "output_type": "execute_result"
    }
   ],
   "source": [
    "\n",
    "quantiles = DF2.approxQuantile(\"AvgSessDuration\", [0.25, 0.75], 0.05)\n",
    "IQR = quantiles[1] - quantiles[0]\n",
    "bounds = [quantiles[0] - 1.5 * IQR, quantiles[1] + 1.5 * IQR]\n",
    "\n",
    "DF3 = DF2.where( (DF2.AvgSessDuration > bounds[0]) | (DF2.AvgSessDuration < bounds[1]) )\n",
    "DF3.count()"
   ]
  },
  {
   "cell_type": "code",
   "execution_count": 10,
   "metadata": {},
   "outputs": [
    {
     "data": {
      "text/plain": [
       "7733"
      ]
     },
     "execution_count": 10,
     "metadata": {},
     "output_type": "execute_result"
    }
   ],
   "source": [
    "quantiles = DF3.approxQuantile(\"BounceRate\", [0.25, 0.75], 0.05)\n",
    "IQR = quantiles[1] - quantiles[0]\n",
    "bounds = [quantiles[0] - 1.5 * IQR, quantiles[1] + 1.5 * IQR]\n",
    "\n",
    "DF4 = DF3.where( (DF3.AvgSessDuration > bounds[0]) | (DF3.AvgSessDuration < bounds[1]))\n",
    "DF4.count()"
   ]
  },
  {
   "cell_type": "code",
   "execution_count": 21,
   "metadata": {
    "scrolled": true
   },
   "outputs": [
    {
     "name": "stdout",
     "output_type": "stream",
     "text": [
      "+--------------------+-----------------+-------------------------+-----------------------+\n",
      "|skewness(BounceRate)|  skewness(Users)|skewness(AvgSessDuration)|skewness(Pages_Session)|\n",
      "+--------------------+-----------------+-------------------------+-----------------------+\n",
      "|   8.130705910332097|27.95353977327889|        3.947101486321689|      4.360683795901222|\n",
      "+--------------------+-----------------+-------------------------+-----------------------+\n",
      "\n"
     ]
    }
   ],
   "source": [
    "DF4.agg( {'BounceRate': 'skewness', 'Users': 'skewness', 'AvgSessDuration': 'skewness', 'Pages_Session': 'skewness'} ).show()"
   ]
  },
  {
   "cell_type": "code",
   "execution_count": 22,
   "metadata": {},
   "outputs": [
    {
     "name": "stdout",
     "output_type": "stream",
     "text": [
      "╒═════════════════╤═════════╤══════════════╤═════════════════╤════════════╤═══════════════════╕\n",
      "│                 │  Users  │  BounceRate  │  Pages_Session  │  Sessions  │  AvgSessDuration  │\n",
      "╞═════════════════╪═════════╪══════════════╪═════════════════╪════════════╪═══════════════════╡\n",
      "│ Users           │    1    │  0.0805697   │   -0.0173786    │  0.966667  │    -0.0080914     │\n",
      "├─────────────────┼─────────┼──────────────┼─────────────────┼────────────┼───────────────────┤\n",
      "│ BounceRate      │         │      1       │   -0.0662484    │ 0.0715256  │    -0.0421201     │\n",
      "├─────────────────┼─────────┼──────────────┼─────────────────┼────────────┼───────────────────┤\n",
      "│ Pages_Session   │         │              │        1        │ 0.00175671 │     0.687481      │\n",
      "├─────────────────┼─────────┼──────────────┼─────────────────┼────────────┼───────────────────┤\n",
      "│ Sessions        │         │              │                 │     1      │     0.0242913     │\n",
      "├─────────────────┼─────────┼──────────────┼─────────────────┼────────────┼───────────────────┤\n",
      "│ AvgSessDuration │         │              │                 │            │         1         │\n",
      "╘═════════════════╧═════════╧══════════════╧═════════════════╧════════════╧═══════════════════╛\n"
     ]
    }
   ],
   "source": [
    "n_numerical = len(numerical)\n",
    "corr = []\n",
    "\n",
    "for i in range(0, n_numerical):\n",
    "    temp = [None] * i\n",
    "    for j in range(i, n_numerical):\n",
    "        temp.append(DF4.corr(numerical[i], numerical[j]))\n",
    "    corr.append(temp)\n",
    "    from tabulate import tabulate\n",
    "print(tabulate(corr, headers=numerical, showindex=numerical, tablefmt=\"fancy_grid\", numalign=\"center\"))"
   ]
  },
  {
   "cell_type": "code",
   "execution_count": 23,
   "metadata": {},
   "outputs": [],
   "source": [
    "import pyspark.ml.feature as ft\n",
    "Campaign_indexer = ft.StringIndexer(inputCol=\"Campaign\", outputCol=\"campaign-num\")\n",
    "City_indexer = ft.StringIndexer(inputCol=\"City\", outputCol=\"city-num\")\n",
    "#featuresCreator = ft.VectorAssembler(inputCols=[\"Landing Page-num\",\"Country-num\"], outputCol='features')\n"
   ]
  },
  {
   "cell_type": "code",
   "execution_count": 24,
   "metadata": {},
   "outputs": [],
   "source": [
    "assembler = ft.VectorAssembler(inputCols=[\"campaign-num\",\"city-num\",\"BounceRate\",\"AvgSessDuration\"], outputCol='features-vec')\n",
    "scaler = ft.StandardScaler(inputCol=\"features-vec\", outputCol=\"features\")"
   ]
  },
  {
   "cell_type": "code",
   "execution_count": 29,
   "metadata": {},
   "outputs": [],
   "source": [
    "import pyspark.ml.clustering as clus\n",
    "kmeans = clus.KMeans(k = 5, featuresCol = 'features')\n",
    "\n"
   ]
  },
  {
   "cell_type": "code",
   "execution_count": 30,
   "metadata": {},
   "outputs": [],
   "source": [
    "from pyspark.ml import Pipeline\n",
    "pipeline = Pipeline( stages = [Campaign_indexer,City_indexer,assembler, scaler,kmeans] )"
   ]
  },
  {
   "cell_type": "code",
   "execution_count": 31,
   "metadata": {},
   "outputs": [],
   "source": [
    "model = pipeline.fit(DF4)\n",
    "clusters = model.transform(DF4)\n"
   ]
  },
  {
   "cell_type": "code",
   "execution_count": 32,
   "metadata": {},
   "outputs": [
    {
     "name": "stdout",
     "output_type": "stream",
     "text": [
      "0.6071640728197522\n"
     ]
    }
   ],
   "source": [
    "import pyspark.ml.evaluation as ev\n",
    "\n",
    "predictions = model.transform(DF4)\n",
    "evaluator = ev.ClusteringEvaluator()\n",
    "print(evaluator.evaluate(predictions))"
   ]
  },
  {
   "cell_type": "code",
   "execution_count": 393,
   "metadata": {},
   "outputs": [
    {
     "name": "stdout",
     "output_type": "stream",
     "text": [
      "Number of clusters:  5\n",
      "Size of (number of data points in) each cluster:  [487, 4194, 1415, 121, 1516]\n",
      "The cluster centers are:  [array([0.66201807, 0.84843219, 0.00433509, 3.54345163]), array([0.32245537, 0.41413074, 0.0473323 , 0.33184432]), array([4.00450046e-01, 2.58636362e+00, 1.75944274e-03, 3.02789681e-01]), array([0.67090684, 0.4164316 , 7.41594766, 0.23115123]), array([2.40281348, 0.51901095, 0.0179725 , 0.34700184])]\n"
     ]
    }
   ],
   "source": [
    "km = model.stages[4]\n",
    "\n",
    "summary = km.summary\n",
    "print(\"Number of clusters: \", summary.k)\n",
    "print(\"Size of (number of data points in) each cluster: \", summary.clusterSizes)\n",
    "print(\"The cluster centers are: \", km.clusterCenters())"
   ]
  },
  {
   "cell_type": "code",
   "execution_count": null,
   "metadata": {},
   "outputs": [],
   "source": []
  }
 ],
 "metadata": {
  "kernelspec": {
   "display_name": "Python 3",
   "language": "python",
   "name": "python3"
  },
  "language_info": {
   "codemirror_mode": {
    "name": "ipython",
    "version": 3
   },
   "file_extension": ".py",
   "mimetype": "text/x-python",
   "name": "python",
   "nbconvert_exporter": "python",
   "pygments_lexer": "ipython3",
   "version": "3.8.5"
  }
 },
 "nbformat": 4,
 "nbformat_minor": 4
}
